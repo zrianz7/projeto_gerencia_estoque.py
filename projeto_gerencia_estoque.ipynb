{
  "nbformat": 4,
  "nbformat_minor": 0,
  "metadata": {
    "colab": {
      "provenance": [],
      "authorship_tag": "ABX9TyPDvEJTFsaLz06ZjSN2jQLv"
    },
    "kernelspec": {
      "name": "python3",
      "display_name": "Python 3"
    },
    "language_info": {
      "name": "python"
    }
  },
  "cells": [
    {
      "cell_type": "code",
      "source": [
        "#Estrutura de dados\n",
        "\n",
        "class Produto:\n",
        "    def __init__(self, nome, categoria, quantidade, preco, localizacao):\n",
        "        self.nome = nome\n",
        "        self.categoria = categoria\n",
        "        self.quantidade = quantidade\n",
        "        self.preco = preco\n",
        "        self.localizacao = localizacao\n",
        "\n",
        "class Categoria:\n",
        "    def __init__(self, nome):\n",
        "        self.nome = nome\n",
        "        self.produtos = []\n",
        "\n",
        "class Movimentacao:\n",
        "    def __init__(self, produto, quantidade, tipo):\n",
        "        self.produto = produto\n",
        "        self.quantidade = quantidade\n",
        "        self.tipo = tipo  # 'entrada' ou 'saida'\n",
        "\n",
        "produtos = []\n",
        "categorias = []\n",
        "movimentacoes = []\n"
      ],
      "metadata": {
        "id": "qVoJe2E1LRaB"
      },
      "execution_count": 14,
      "outputs": []
    },
    {
      "cell_type": "code",
      "source": [
        "#Cadastro de Produtos\n",
        "\n",
        "def cadastrar_produto(nome, categoria_nome, quantidade, preco, localizacao):\n",
        "    categoria = next((c for c in categorias if c.nome == categoria_nome), None)\n",
        "    if not categoria:\n",
        "        categoria = Categoria(categoria_nome)\n",
        "        categorias.append(categoria)\n",
        "    produto = Produto(nome, categoria_nome, quantidade, preco, localizacao)\n",
        "    produtos.append(produto)\n",
        "    categoria.produtos.append(produto)\n",
        "\n",
        "# Exemplo de uso:\n",
        "# cadastrar_produto(\"Laptop\", \"Eletrônicos\", 50, 3000.00, \"A1\")\n"
      ],
      "metadata": {
        "id": "l7Yu3wZkLkH7"
      },
      "execution_count": 16,
      "outputs": []
    },
    {
      "cell_type": "code",
      "source": [
        "#Atualizar estoque\n",
        "\n",
        "def atualizar_estoque(nome, quantidade):\n",
        "    for produto in produtos:\n",
        "        if produto.nome == nome:\n",
        "            produto.quantidade += quantidade\n",
        "            movimentacoes.append(Movimentacao(produto, quantidade, 'entrada' if quantidade > 0 else 'saida'))\n",
        "            return f'Estoque de {nome} atualizado para {produto.quantidade}'\n",
        "    return 'Produto não encontrado'\n",
        "\n",
        "# Exemplo de uso:\n",
        "# print(atualizar_estoque(\"Laptop\", 10))\n"
      ],
      "metadata": {
        "id": "pdk8ghI_Ltgs"
      },
      "execution_count": 17,
      "outputs": []
    },
    {
      "cell_type": "code",
      "source": [
        "#Gera relatórios\n",
        "\n",
        "def gerar_relatorio():\n",
        "    for produto in produtos:\n",
        "        print(f'Nome: {produto.nome}, Categoria: {produto.categoria}, Quantidade: {produto.quantidade}, Preço: {produto.preco}, Localização: {produto.localizacao}')\n",
        "\n",
        "# Exemplo de uso:\n",
        "# gerar_relatorio()\n"
      ],
      "metadata": {
        "id": "ylsykPdgL0JM"
      },
      "execution_count": 18,
      "outputs": []
    },
    {
      "cell_type": "code",
      "source": [
        "cadastrar_produto(\"Teclado\", \"Periféricos\", 100, 150.00, \"B2\")\n"
      ],
      "metadata": {
        "id": "Kol_BtguPyyW"
      },
      "execution_count": 19,
      "outputs": []
    },
    {
      "cell_type": "code",
      "source": [
        "print(atualizar_estoque(\"Teclado\", 50))  # Adicionando 50 unidades ao estoque\n",
        "print(atualizar_estoque(\"Teclado\", -20))  # Removendo 20 unidades do estoque\n"
      ],
      "metadata": {
        "id": "xDzvQszpP0MP",
        "colab": {
          "base_uri": "https://localhost:8080/"
        },
        "outputId": "c0879489-a9b6-4b3d-aedb-4ffb20f561d4"
      },
      "execution_count": 20,
      "outputs": [
        {
          "output_type": "stream",
          "name": "stdout",
          "text": [
            "Estoque de Teclado atualizado para 150\n",
            "Estoque de Teclado atualizado para 130\n"
          ]
        }
      ]
    },
    {
      "cell_type": "code",
      "source": [
        "def registrar_movimentacao(produto_nome, quantidade, tipo):\n",
        "    for produto in produtos:\n",
        "        if produto.nome == produto_nome:\n",
        "            movimentacao = Movimentacao(produto, quantidade, tipo)\n",
        "            movimentacoes.append(movimentacao)\n",
        "            atualizar_estoque(produto_nome, quantidade if tipo == 'entrada' else -quantidade)\n",
        "            return f'Movimentação de {tipo} registrada para {produto_nome}'\n",
        "    return 'Produto não encontrado'\n",
        "\n",
        "# Exemplos de uso:\n",
        "registrar_movimentacao(\"Teclado\", 30, 'entrada')\n",
        "registrar_movimentacao(\"Teclado\", 10, 'saida')\n"
      ],
      "metadata": {
        "id": "ws1cyBHXP3KL",
        "colab": {
          "base_uri": "https://localhost:8080/",
          "height": 35
        },
        "outputId": "cf642d4b-0488-467b-fed5-879bba22d0d6"
      },
      "execution_count": 21,
      "outputs": [
        {
          "output_type": "execute_result",
          "data": {
            "text/plain": [
              "'Movimentação de saida registrada para Teclado'"
            ],
            "application/vnd.google.colaboratory.intrinsic+json": {
              "type": "string"
            }
          },
          "metadata": {},
          "execution_count": 21
        }
      ]
    },
    {
      "cell_type": "code",
      "source": [
        "gerar_relatorio()"
      ],
      "metadata": {
        "colab": {
          "base_uri": "https://localhost:8080/"
        },
        "id": "eGeQ7LvdQYSO",
        "outputId": "41a4145e-b26b-4da4-973d-1d1c47688620"
      },
      "execution_count": 22,
      "outputs": [
        {
          "output_type": "stream",
          "name": "stdout",
          "text": [
            "Nome: Teclado, Categoria: Periféricos, Quantidade: 150, Preço: 150.0, Localização: B2\n"
          ]
        }
      ]
    }
  ]
}